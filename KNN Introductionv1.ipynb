{
 "cells": [
  {
   "cell_type": "code",
   "execution_count": 4,
   "metadata": {},
   "outputs": [],
   "source": [
    "import warnings\n",
    "warnings.filterwarnings('ignore')"
   ]
  },
  {
   "cell_type": "code",
   "execution_count": 2,
   "metadata": {},
   "outputs": [
    {
     "name": "stdout",
     "output_type": "stream",
     "text": [
      "[1]\n"
     ]
    },
    {
     "data": {
      "image/png": "[encoded data removed]",
      "text/plain": [
       "<Figure size 432x288 with 1 Axes>"
      ]
     },
     "metadata": {},
     "output_type": "display_data"
    }
   ],
   "source": [
    "import numpy as np\n",
    "from matplotlib import pyplot as plt\n",
    "from sklearn.neighbors import KNeighborsClassifier\n",
    "%matplotlib inline\n",
    "\n",
    "xBlue = np.array([0.3,0.5,1,1.4,1.7,2])\n",
    "yBlue = np.array([1,4.5,2.3,1.9,8.9,4.1])\n",
    "\n",
    "xRed = np.array([3.3,3.5,4,4.4,5.7,6])\n",
    "yRed = np.array([7,1.5,6.3,1.9,2.9,7.1])\n",
    "\n",
    "X = np.array([[0.3,1],[0.5,4.5],[1,2.3],[1.4,1.9],[1.7,8.9],[2,4.1],[3.3,7],[3.5,1.5],[4,6.3],[4.4,1.9],[5.7,2.9],[6,7.1]])\n",
    "y = np.array([0,0,0,0,0,0,1,1,1,1,1,1]) # 0: blue class, 1: red class\n",
    "\n",
    "plt.plot(xBlue, yBlue, 'ro', color = 'blue')\n",
    "plt.plot(xRed, yRed, 'ro', color='red')\n",
    "plt.plot(3,5,'ro',color='green', markersize=15)\n",
    "plt.axis([-0.5,10,-0.5,10])\n",
    "\n",
    "classifier = KNeighborsClassifier(n_neighbors=3) # this is the k value\n",
    "classifier.fit(X,y)\n",
    "\n",
    "pred = classifier.predict(np.array([[5,5]]))\n",
    "print(pred)\n",
    "\n",
    "plt.show()\n",
    "\n"
   ]
  },
  {
   "cell_type": "code",
   "execution_count": 5,
   "metadata": {},
   "outputs": [],
   "source": [
    "import pandas as pd\n",
    "import numpy as np\n",
    "from sklearn.neighbors import KNeighborsClassifier\n",
    "from sklearn.cross_validation import train_test_split\n",
    "from sklearn.metrics import confusion_matrix\n",
    "from sklearn.metrics import accuracy_score\n",
    "from sklearn import preprocessing\n",
    "from sklearn.model_selection import cross_val_score"
   ]
  },
  {
   "cell_type": "code",
   "execution_count": 6,
   "metadata": {},
   "outputs": [],
   "source": [
    "data = pd.read_csv('./credit_data.csv')"
   ]
  },
  {
   "cell_type": "code",
   "execution_count": 7,
   "metadata": {},
   "outputs": [
    {
     "name": "stdout",
     "output_type": "stream",
     "text": [
      "          clientid    income       age      loan       LTI   default\n",
      "clientid  1.000000  0.039280 -0.030341  0.018931  0.002538 -0.020145\n",
      "income    0.039280  1.000000 -0.034984  0.441117 -0.019862  0.002284\n",
      "age      -0.030341 -0.034984  1.000000  0.006561  0.021588 -0.444765\n",
      "loan      0.018931  0.441117  0.006561  1.000000  0.847495  0.377160\n",
      "LTI       0.002538 -0.019862  0.021588  0.847495  1.000000  0.433261\n",
      "default  -0.020145  0.002284 -0.444765  0.377160  0.433261  1.000000\n"
     ]
    }
   ],
   "source": [
    "# Logistic regression accuracy: 93%\n",
    "# we do better with knn: 98.5% !!!!!!!!\n",
    "# 84%\n",
    "\n",
    "#print(creditData.head())\n",
    "#print(creditData.describe())\n",
    "print(data.corr())\n",
    "\n",
    "data.features = data[[\"income\",\"age\",\"loan\"]]\n",
    "data.target = data.default\n",
    "\n",
    "data.features = preprocessing.MinMaxScaler().fit_transform(data.features) #HUGE DIFFERENCE !!!\n",
    "\n",
    "feature_train, feature_test, target_train, target_test = train_test_split(data.features,data.target, test_size=0.3)\n",
    "\n",
    "model = KNeighborsClassifier(n_neighbors=28)  # k value !!!\n",
    "fittedModel = model.fit(feature_train, target_train)\n",
    "predictions = fittedModel.predict(feature_test)\n",
    "\n",
    "cross_valid_scores = []\n"
   ]
  },
  {
   "cell_type": "code",
   "execution_count": 8,
   "metadata": {},
   "outputs": [
    {
     "name": "stdout",
     "output_type": "stream",
     "text": [
      "('Optimal k with cross-validation: ', 28)\n",
      "[[516   2]\n",
      " [  9  73]]\n"
     ]
    }
   ],
   "source": [
    "\n",
    "for k in range(1,100):\n",
    "    knn = KNeighborsClassifier(n_neighbors=k)\n",
    "    scores = cross_val_score(knn,data.features,data.target,cv=10,scoring='accuracy')\n",
    "    cross_valid_scores.append(scores.mean())\n",
    "    \n",
    "\n",
    "print(\"Optimal k with cross-validation: \", np.argmax(cross_valid_scores))    \n",
    "    \n",
    "print(confusion_matrix(target_test, predictions))"
   ]
  },
  {
   "cell_type": "code",
   "execution_count": null,
   "metadata": {},
   "outputs": [],
   "source": []
  }
 ],
 "metadata": {
  "kernelspec": {
   "display_name": "TrainingPy2x",
   "language": "python",
   "name": "trainingpy2x"
  },
  "language_info": {
   "codemirror_mode": {
    "name": "ipython",
    "version": 2
   },
   "file_extension": ".py",
   "mimetype": "text/x-python",
   "name": "python",
   "nbconvert_exporter": "python",
   "pygments_lexer": "ipython2",
   "version": "2.7.15"
  }
 },
 "nbformat": 4,
 "nbformat_minor": 2
}
