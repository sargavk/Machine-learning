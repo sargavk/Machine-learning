{
 "cells": [
  {
   "cell_type": "code",
   "execution_count": 1,
   "metadata": {},
   "outputs": [],
   "source": [
    "\n",
    "import warnings\n",
    "warnings.filterwarnings('ignore')"
   ]
  },
  {
   "cell_type": "code",
   "execution_count": 4,
   "metadata": {},
   "outputs": [],
   "source": [
    "import numpy as np\n",
    "import pandas as pd\n",
    "from matplotlib import pyplot as plt\n",
    "from sklearn.tree import DecisionTreeClassifier\n",
    "from sklearn.cross_validation import train_test_split\n",
    "from sklearn.metrics import confusion_matrix\n",
    "from sklearn.metrics import accuracy_score\n",
    "\n",
    "\n",
    "irisData = pd.read_csv('./iris_data.csv')\n",
    "\n",
    "#print(irisData.head)\n",
    "features = irisData[[\"SepalLength\",\"SepalWidth\",\"PetalLength\",\"PetalWidth\"]]\n",
    "targetVariables = irisData.Class \n",
    "\n",
    "featureTrain, featureTest, targetTrain, targetTest = train_test_split(features, targetVariables, test_size=.2)\n",
    "\n",
    "model = DecisionTreeClassifier()\n",
    "fittedModel = model.fit(featureTrain, targetTrain)\n",
    "predictions = fittedModel.predict(featureTest)\n",
    "\n",
    "\n",
    "\n"
   ]
  },
  {
   "cell_type": "code",
   "execution_count": 5,
   "metadata": {},
   "outputs": [
    {
     "name": "stdout",
     "output_type": "stream",
     "text": [
      "[[11  0  0]\n",
      " [ 0  6  1]\n",
      " [ 0  0 12]]\n"
     ]
    }
   ],
   "source": [
    "print(confusion_matrix(targetTest, predictions))"
   ]
  },
  {
   "cell_type": "code",
   "execution_count": 13,
   "metadata": {},
   "outputs": [
    {
     "name": "stdout",
     "output_type": "stream",
     "text": [
      "96.66666666666667\n"
     ]
    }
   ],
   "source": [
    "print(accuracy_score(targetTest, predictions)*100)"
   ]
  },
  {
   "cell_type": "code",
   "execution_count": 6,
   "metadata": {},
   "outputs": [],
   "source": [
    "# Let us move in details now - This code below takes 20 minutes to execute for the first time"
   ]
  },
  {
   "cell_type": "code",
   "execution_count": 7,
   "metadata": {},
   "outputs": [
    {
     "name": "stdout",
     "output_type": "stream",
     "text": [
      "     SepalLength  SepalWidth  PetalLength  PetalWidth            Class\n",
      "0            5.1         3.5          1.4         0.2      Iris-setosa\n",
      "1            4.9         3.0          1.4         0.2      Iris-setosa\n",
      "2            4.7         3.2          1.3         0.2      Iris-setosa\n",
      "3            4.6         3.1          1.5         0.2      Iris-setosa\n",
      "4            5.0         3.6          1.4         0.2      Iris-setosa\n",
      "5            5.4         3.9          1.7         0.4      Iris-setosa\n",
      "6            4.6         3.4          1.4         0.3      Iris-setosa\n",
      "7            5.0         3.4          1.5         0.2      Iris-setosa\n",
      "8            4.4         2.9          1.4         0.2      Iris-setosa\n",
      "9            4.9         3.1          1.5         0.1      Iris-setosa\n",
      "10           5.4         3.7          1.5         0.2      Iris-setosa\n",
      "11           4.8         3.4          1.6         0.2      Iris-setosa\n",
      "12           4.8         3.0          1.4         0.1      Iris-setosa\n",
      "13           4.3         3.0          1.1         0.1      Iris-setosa\n",
      "14           5.8         4.0          1.2         0.2      Iris-setosa\n",
      "15           5.7         4.4          1.5         0.4      Iris-setosa\n",
      "16           5.4         3.9          1.3         0.4      Iris-setosa\n",
      "17           5.1         3.5          1.4         0.3      Iris-setosa\n",
      "18           5.7         3.8          1.7         0.3      Iris-setosa\n",
      "19           5.1         3.8          1.5         0.3      Iris-setosa\n",
      "20           5.4         3.4          1.7         0.2      Iris-setosa\n",
      "21           5.1         3.7          1.5         0.4      Iris-setosa\n",
      "22           4.6         3.6          1.0         0.2      Iris-setosa\n",
      "23           5.1         3.3          1.7         0.5      Iris-setosa\n",
      "24           4.8         3.4          1.9         0.2      Iris-setosa\n",
      "25           5.0         3.0          1.6         0.2      Iris-setosa\n",
      "26           5.0         3.4          1.6         0.4      Iris-setosa\n",
      "27           5.2         3.5          1.5         0.2      Iris-setosa\n",
      "28           5.2         3.4          1.4         0.2      Iris-setosa\n",
      "29           4.7         3.2          1.6         0.2      Iris-setosa\n",
      "..           ...         ...          ...         ...              ...\n",
      "120          5.0         3.5          1.3         0.3      Iris-setosa\n",
      "121          4.5         2.3          1.3         0.3      Iris-setosa\n",
      "122          4.4         3.2          1.3         0.2      Iris-setosa\n",
      "123          5.0         3.5          1.6         0.6      Iris-setosa\n",
      "124          5.1         3.8          1.9         0.4      Iris-setosa\n",
      "125          4.8         3.0          1.4         0.3      Iris-setosa\n",
      "126          5.1         3.8          1.6         0.2      Iris-setosa\n",
      "127          4.6         3.2          1.4         0.2      Iris-setosa\n",
      "128          5.3         3.7          1.5         0.2      Iris-setosa\n",
      "129          5.0         3.3          1.4         0.2      Iris-setosa\n",
      "130          5.5         2.6          4.4         1.2  Iris-versicolor\n",
      "131          6.1         3.0          4.6         1.4  Iris-versicolor\n",
      "132          5.8         2.6          4.0         1.2  Iris-versicolor\n",
      "133          5.0         2.3          3.3         1.0  Iris-versicolor\n",
      "134          5.6         2.7          4.2         1.3  Iris-versicolor\n",
      "135          5.7         3.0          4.2         1.2  Iris-versicolor\n",
      "136          5.7         2.9          4.2         1.3  Iris-versicolor\n",
      "137          6.2         2.9          4.3         1.3  Iris-versicolor\n",
      "138          5.1         2.5          3.0         1.1  Iris-versicolor\n",
      "139          5.7         2.8          4.1         1.3  Iris-versicolor\n",
      "140          6.7         3.1          5.6         2.4   Iris-virginica\n",
      "141          6.9         3.1          5.1         2.3   Iris-virginica\n",
      "142          5.8         2.7          5.1         1.9   Iris-virginica\n",
      "143          6.8         3.2          5.9         2.3   Iris-virginica\n",
      "144          6.7         3.3          5.7         2.5   Iris-virginica\n",
      "145          6.7         3.0          5.2         2.3   Iris-virginica\n",
      "146          6.3         2.5          5.0         1.9   Iris-virginica\n",
      "147          6.5         3.0          5.2         2.0   Iris-virginica\n",
      "148          6.2         3.4          5.4         2.3   Iris-virginica\n",
      "149          5.9         3.0          5.1         1.8   Iris-virginica\n",
      "\n",
      "[150 rows x 5 columns]\n",
      "[[11  0  0]\n",
      " [ 0  8  0]\n",
      " [ 0  0 11]]\n",
      "1.0\n"
     ]
    }
   ],
   "source": [
    "import pandas as pd\n",
    "from sklearn.tree import DecisionTreeClassifier\n",
    "from sklearn.cross_validation import train_test_split\n",
    "from sklearn.metrics import confusion_matrix\n",
    "from sklearn.metrics import accuracy_score\n",
    "from sklearn import cross_validation\n",
    "\n",
    "data = pd.read_csv('./iris_data.csv')\n",
    "\n",
    "print(data)\n",
    "data.features = data[[\"SepalLength\",\"SepalWidth\",\"PetalLength\",\"PetalWidth\"]]\n",
    "data.targets = data.Class \n",
    "\n",
    "feature_train, feature_test, target_train, target_test = train_test_split(data.features, data.targets, test_size=.2)\n",
    "\n",
    "model = DecisionTreeClassifier(criterion='gini')\n",
    "model.fitted = model.fit(feature_train, target_train)\n",
    "model.predictions = model.fitted.predict(feature_test)\n",
    "\n",
    "print(confusion_matrix(target_test, model.predictions))\n",
    "print(accuracy_score(target_test, model.predictions))\n",
    "\n"
   ]
  },
  {
   "cell_type": "code",
   "execution_count": 8,
   "metadata": {},
   "outputs": [
    {
     "name": "stdout",
     "output_type": "stream",
     "text": [
      "0.9533333333333334\n"
     ]
    }
   ],
   "source": [
    "predicted = cross_validation.cross_val_predict(model,data.features,data.targets, cv=10)\n",
    "print(accuracy_score(data.targets,predicted))"
   ]
  },
  {
   "cell_type": "markdown",
   "metadata": {},
   "source": [
    "# Use the IRIS dataset from internet instead - needs internet connections"
   ]
  },
  {
   "cell_type": "code",
   "execution_count": 9,
   "metadata": {},
   "outputs": [],
   "source": [
    "from sklearn import datasets\n",
    "dataset = datasets.load_iris()"
   ]
  },
  {
   "cell_type": "code",
   "execution_count": 10,
   "metadata": {},
   "outputs": [],
   "source": [
    "features=dataset.data"
   ]
  },
  {
   "cell_type": "code",
   "execution_count": 25,
   "metadata": {},
   "outputs": [],
   "source": [
    "#features"
   ]
  },
  {
   "cell_type": "code",
   "execution_count": 11,
   "metadata": {},
   "outputs": [],
   "source": [
    "targets=dataset.target"
   ]
  },
  {
   "cell_type": "code",
   "execution_count": 14,
   "metadata": {},
   "outputs": [
    {
     "name": "stdout",
     "output_type": "stream",
     "text": [
      "[[10  0  0]\n",
      " [ 0 10  1]\n",
      " [ 0  3  6]]\n",
      "0.8666666666666667\n"
     ]
    }
   ],
   "source": [
    "feature_train, feature_test, target_train, target_test = train_test_split(features, targets, test_size=.2)\n",
    "# Change this line from previous codes to reflect features and targets\n",
    "model = DecisionTreeClassifier(criterion='gini')\n",
    "model.fitted = model.fit(feature_train, target_train)\n",
    "model.predictions = model.fitted.predict(feature_test)\n",
    "\n",
    "print(confusion_matrix(target_test, model.predictions))\n",
    "print(accuracy_score(target_test, model.predictions))"
   ]
  },
  {
   "cell_type": "code",
   "execution_count": null,
   "metadata": {},
   "outputs": [],
   "source": []
  },
  {
   "cell_type": "code",
   "execution_count": null,
   "metadata": {},
   "outputs": [],
   "source": []
  }
 ],
 "metadata": {
  "kernelspec": {
   "display_name": "TrainingPy2x",
   "language": "python",
   "name": "trainingpy2x"
  },
  "language_info": {
   "codemirror_mode": {
    "name": "ipython",
    "version": 2
   },
   "file_extension": ".py",
   "mimetype": "text/x-python",
   "name": "python",
   "nbconvert_exporter": "python",
   "pygments_lexer": "ipython2",
   "version": "2.7.15"
  }
 },
 "nbformat": 4,
 "nbformat_minor": 2
}
